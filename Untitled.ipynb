{
 "cells": [
  {
   "cell_type": "code",
   "execution_count": 1,
   "id": "1f794691-d2bc-4f48-b2e5-854d2a4aff26",
   "metadata": {},
   "outputs": [
    {
     "name": "stdout",
     "output_type": "stream",
     "text": [
      "Torch: 2.9.0+cpu\n",
      "OpenCV: 4.12.0\n",
      "NumPy: 2.2.6\n",
      "CUDA доступен: False\n"
     ]
    }
   ],
   "source": [
    "  import torch, cv2, numpy\n",
    "  print(\"Torch:\", torch.__version__)\n",
    "  print(\"OpenCV:\", cv2.__version__)\n",
    "  print(\"NumPy:\", numpy.__version__)\n",
    "  print(\"CUDA доступен:\", torch.cuda.is_available())"
   ]
  },
  {
   "cell_type": "code",
   "execution_count": null,
   "id": "fcffd48b-e9ee-4f0a-9eaa-e8e20bbfbdaf",
   "metadata": {},
   "outputs": [],
   "source": []
  }
 ],
 "metadata": {
  "kernelspec": {
   "display_name": "Python 3 (ipykernel)",
   "language": "python",
   "name": "python3"
  },
  "language_info": {
   "codemirror_mode": {
    "name": "ipython",
    "version": 3
   },
   "file_extension": ".py",
   "mimetype": "text/x-python",
   "name": "python",
   "nbconvert_exporter": "python",
   "pygments_lexer": "ipython3",
   "version": "3.11.13"
  }
 },
 "nbformat": 4,
 "nbformat_minor": 5
}
