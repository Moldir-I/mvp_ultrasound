{
 "cells": [
  {
   "cell_type": "code",
   "execution_count": 3,
   "id": "00ca3580-e376-4ffb-a672-dcc8fa4e854c",
   "metadata": {},
   "outputs": [
    {
     "name": "stderr",
     "output_type": "stream",
     "text": [
      "100%|████████████████████████████████████████████████████████████████████████████████| 123/123 [00:58<00:00,  2.11it/s]"
     ]
    },
    {
     "name": "stdout",
     "output_type": "stream",
     "text": [
      "✅ Финальная точность на тесте: 0.407 (50/123)\n"
     ]
    },
    {
     "name": "stderr",
     "output_type": "stream",
     "text": [
      "\n"
     ]
    }
   ],
   "source": [
    "import torch\n",
    "import pandas as pd\n",
    "from pathlib import Path\n",
    "from torchvision import transforms\n",
    "from PIL import Image\n",
    "from tqdm import tqdm\n",
    "import sys\n",
    "from pathlib import Path\n",
    "\n",
    "# === Добавляем путь к корню проекта, чтобы видеть models/, data/, app/ ===\n",
    "PROJECT_ROOT = Path(\"E:/work/mvp_ultrasound\")\n",
    "sys.path.append(str(PROJECT_ROOT))\n",
    "\n",
    "from models.hybrid_unet import HybridUNetClassifierClean\n",
    "from models.hybrid_unet import HybridUNetClassifierClean\n",
    "\n",
    "# === Пути ===\n",
    "ROOT = Path(\"E:/work/mvp_ultrasound\")\n",
    "CSV_PATH = ROOT / \"data\" / \"processed\" / \"dataset_index.csv\"\n",
    "MODEL_PATH = ROOT / \"models\" / \"mvp_model.pt\"\n",
    "\n",
    "# === Загружаем данные ===\n",
    "df = pd.read_csv(CSV_PATH)\n",
    "df_test = df[df['split'] == 'test']\n",
    "\n",
    "# === Модель ===\n",
    "device = torch.device(\"cpu\")\n",
    "model = HybridUNetClassifierClean(num_classes=3)\n",
    "state_dict = torch.load(MODEL_PATH, map_location=device)\n",
    "model.load_state_dict(state_dict, strict=False)\n",
    "model.eval()\n",
    "\n",
    "# === Трансформации ===\n",
    "transform = transforms.Compose([\n",
    "    transforms.Resize((256, 256)),\n",
    "    transforms.ToTensor(),\n",
    "    transforms.Normalize([0.5], [0.5])\n",
    "])\n",
    "\n",
    "# === Оценка ===\n",
    "correct, total = 0, 0\n",
    "for _, row in tqdm(df_test.iterrows(), total=len(df_test)):\n",
    "    image = Image.open(row['path']).convert(\"L\")\n",
    "    x = transform(image).unsqueeze(0)\n",
    "    with torch.no_grad():\n",
    "        _, logits = model(x)\n",
    "        pred = torch.argmax(logits, dim=1).item()\n",
    "    if row['label'] == [\"benign\", \"malignant\", \"normal\"][pred]:\n",
    "        correct += 1\n",
    "    total += 1\n",
    "\n",
    "accuracy = correct / total\n",
    "print(f\"✅ Финальная точность на тесте: {accuracy:.3f} ({correct}/{total})\")"
   ]
  },
  {
   "cell_type": "code",
   "execution_count": null,
   "id": "cd61b0fd-ce5e-4380-a82d-201e6155b8a9",
   "metadata": {},
   "outputs": [],
   "source": []
  }
 ],
 "metadata": {
  "kernelspec": {
   "display_name": "Python 3 (ipykernel)",
   "language": "python",
   "name": "python3"
  },
  "language_info": {
   "codemirror_mode": {
    "name": "ipython",
    "version": 3
   },
   "file_extension": ".py",
   "mimetype": "text/x-python",
   "name": "python",
   "nbconvert_exporter": "python",
   "pygments_lexer": "ipython3",
   "version": "3.11.13"
  }
 },
 "nbformat": 4,
 "nbformat_minor": 5
}
